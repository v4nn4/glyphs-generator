{
 "cells": [
  {
   "cell_type": "code",
   "execution_count": 13,
   "metadata": {},
   "outputs": [],
   "source": [
    "from glyphs_generator import GlyphGenerator, Stroke, Coordinate, Glyph\n",
    "\n",
    "generator = GlyphGenerator()\n",
    "\n",
    "strokes = [\n",
    "    Stroke(start=Coordinate(x=-1, y=-1), end=Coordinate(x=1, y=-1)),\n",
    "    Stroke(start=Coordinate(x=-1, y=0), end=Coordinate(x=1, y=0)),\n",
    "    Stroke(start=Coordinate(x=-1, y=1), end=Coordinate(x=1, y=1)),\n",
    "    Stroke(start=Coordinate(x=-1, y=-1), end=Coordinate(x=-1, y=1)),\n",
    "    Stroke(start=Coordinate(x=0, y=-1), end=Coordinate(x=0, y=1)),\n",
    "    Stroke(start=Coordinate(x=1, y=-1), end=Coordinate(x=1, y=1)),\n",
    "]\n",
    "alphabet = generator.generate(strokes)"
   ]
  },
  {
   "cell_type": "code",
   "execution_count": 15,
   "metadata": {},
   "outputs": [
    {
     "data": {
      "text/plain": [
       "(-0.5, 34.5, 41.5, -0.5)"
      ]
     },
     "execution_count": 15,
     "metadata": {},
     "output_type": "execute_result"
    },
    {
     "data": {
      "image/png": "[encoded data removed]",
      "text/plain": [
       "<Figure size 640x480 with 1 Axes>"
      ]
     },
     "metadata": {},
     "output_type": "display_data"
    }
   ],
   "source": [
    "import matplotlib.pyplot as plt\n",
    "\n",
    "tensor = alphabet.rasterize(5, 2)\n",
    "plt.imshow(255 - 255 * tensor, cmap=\"gray\")\n",
    "plt.axis(\"off\")"
   ]
  }
 ],
 "metadata": {
  "kernelspec": {
   "display_name": "glyphs-generator-env",
   "language": "python",
   "name": "python3"
  },
  "language_info": {
   "codemirror_mode": {
    "name": "ipython",
    "version": 3
   },
   "file_extension": ".py",
   "mimetype": "text/x-python",
   "name": "python",
   "nbconvert_exporter": "python",
   "pygments_lexer": "ipython3",
   "version": "3.11.5"
  }
 },
 "nbformat": 4,
 "nbformat_minor": 2
}
